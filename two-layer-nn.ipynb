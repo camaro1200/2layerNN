{
 "cells": [
  {
   "cell_type": "markdown",
   "metadata": {},
   "source": [
    "# Two Layer Neural Network"
   ]
  },
  {
   "cell_type": "code",
   "execution_count": 6,
   "metadata": {},
   "outputs": [],
   "source": [
    "from sklearn.datasets import load_digits\n",
    "from sklearn.model_selection import train_test_split\n",
    "import pandas as pd\n",
    "import numpy as np\n",
    "import matplotlib.pyplot as plt "
   ]
  },
  {
   "cell_type": "markdown",
   "metadata": {},
   "source": [
    "### Import Data"
   ]
  },
  {
   "cell_type": "code",
   "execution_count": 7,
   "metadata": {},
   "outputs": [
    {
     "name": "stdout",
     "output_type": "stream",
     "text": [
      "(1797, 64)\n"
     ]
    },
    {
     "data": {
      "text/plain": [
       "<Figure size 432x288 with 0 Axes>"
      ]
     },
     "metadata": {},
     "output_type": "display_data"
    },
    {
     "data": {
      "image/png": "[encoded data removed]",
      "text/plain": [
       "<Figure size 288x288 with 1 Axes>"
      ]
     },
     "metadata": {
      "needs_background": "light"
     },
     "output_type": "display_data"
    }
   ],
   "source": [
    "digits = load_digits()\n",
    "print(digits.data.shape)\n",
    "\n",
    "plt.gray() \n",
    "plt.matshow(digits.images[0]) \n",
    "plt.show() "
   ]
  },
  {
   "cell_type": "markdown",
   "metadata": {},
   "source": [
    "### Split Data "
   ]
  },
  {
   "cell_type": "code",
   "execution_count": 4,
   "metadata": {},
   "outputs": [
    {
     "name": "stdout",
     "output_type": "stream",
     "text": [
      "X_Train : (1257, 64)\n",
      "y_Train : (1257,)\n",
      "\n",
      "X_Test : (540, 64)\n",
      "y_Test : (540,)\n"
     ]
    }
   ],
   "source": [
    "X_full = digits.data\n",
    "y_full = digits.target\n",
    "\n",
    "X_train, X_test, y_train, y_test = train_test_split(X_full, y_full, test_size=0.3)\n",
    "\n",
    "print(\"X_Train :\", X_train.shape)\n",
    "print(\"y_Train :\", y_train.shape)\n",
    "print(\"\\nX_Test :\", X_test.shape)\n",
    "print(\"y_Test :\", y_test.shape)"
   ]
  },
  {
   "cell_type": "markdown",
   "metadata": {},
   "source": [
    "### Pre Processing"
   ]
  },
  {
   "cell_type": "code",
   "execution_count": 87,
   "metadata": {},
   "outputs": [],
   "source": [
    "X_train = X_train - np.mean(X_train)"
   ]
  },
  {
   "cell_type": "markdown",
   "metadata": {},
   "source": [
    "# Neural Network Model\n",
    "- image normalization \n",
    "- xavier weight initilization\n",
    "- batch normalization\n",
    "- adam optimizer\n",
    "- model ensambles give 2% more accuracy\n",
    "- Inverted drop out (Regularization) + 2%"
   ]
  },
  {
   "cell_type": "code",
   "execution_count": 83,
   "metadata": {},
   "outputs": [],
   "source": [
    "def relu(x):\n",
    "    return x * (x > 0)\n",
    "\n",
    "\n",
    "def relu_derivative(x):\n",
    "    return 1. * (x > 0)\n",
    "\n",
    "\n",
    "def cross_entropy(X,y):\n",
    "    m = y.shape[0]\n",
    "    p = stable_softmax(X)\n",
    "\n",
    "    log_likelihood = -np.log(p[range(m),y] + 0.00001)\n",
    "    loss = np.sum(log_likelihood) / m\n",
    "    return loss\n",
    "\n",
    "\n",
    "def delta_cross_entropy(X,y):\n",
    "    m = y.shape[0]\n",
    "    grad = softmax(X)\n",
    "    grad[range(m),y] -= 1\n",
    "    grad = grad/m\n",
    "    return grad\n",
    "\n",
    "\n",
    "def cross_entropy_Loss(z, y):\n",
    "    predict_1 = y * np.log(z)\n",
    "    predict_0 = (1 - y) * np.log(1 - z)\n",
    "    \n",
    "    #print(\"\\n pred1 \\n\", predict_1)\n",
    "    #print(\"\\n pred0 \\n\", predict_0)\n",
    "    \n",
    "    return -sum(predict_1 + predict_0) / X.shape[0]\n",
    "\n",
    "def softmax(x):\n",
    "    \"\"\"Compute softmax values for each sets of scores in x.\"\"\"\n",
    "    e_x = np.exp(x - np.max(x))\n",
    "    return e_x / e_x.sum(axis=0) # only difference\n",
    "\n",
    "def stable_softmax(X):\n",
    "    exps = np.exp(X - np.max(X))\n",
    "    return exps / np.sum(exps)\n",
    "\n",
    "def softmax_grad(softmax):\n",
    "    # Reshape the 1-d softmax to 2-d so that np.dot will do the matrix multiplication\n",
    "    s = softmax.reshape(-1,1)\n",
    "    #print(s.shape)\n",
    "    return np.diagflat(s) - np.dot(s, s.T)\n",
    "\n",
    "\n",
    "def softmax2(z):\n",
    "    assert len(z.shape) == 2\n",
    "    s = np.max(z, axis=1)\n",
    "    s = s[:, np.newaxis] # necessary step to do broadcasting\n",
    "    e_x = np.exp(z - s)\n",
    "    div = np.sum(e_x, axis=1)\n",
    "    div = div[:, np.newaxis] # dito\n",
    "    return e_x / div\n",
    "\n",
    "\n"
   ]
  },
  {
   "cell_type": "code",
   "execution_count": 32,
   "metadata": {},
   "outputs": [
    {
     "data": {
      "text/plain": [
       "(20, 20)"
      ]
     },
     "execution_count": 32,
     "metadata": {},
     "output_type": "execute_result"
    }
   ],
   "source": [
    "a = np.random.randn(2, 10) * np.sqrt(1. / 64.0 + 10.0)\n",
    "a_sm = softmax2(a)\n",
    "\n",
    "a_sm_grad = softmax_grad(a_sm)\n",
    "a_sm_grad.shape"
   ]
  },
  {
   "cell_type": "code",
   "execution_count": 6,
   "metadata": {},
   "outputs": [],
   "source": [
    "#X = np.c_[np.ones((X.shape[0],1)), X[:]]"
   ]
  },
  {
   "cell_type": "code",
   "execution_count": 77,
   "metadata": {},
   "outputs": [],
   "source": [
    "class NeuralNetwork:\n",
    "    def __init__(self, x, y, lr=0.00005):\n",
    "        self.input      = x\n",
    "        self.w1         = np.random.randn(64, 32) * np.sqrt(1. / 64.0 + 32.0)     #xavier distribution\n",
    "        self.w2         = np.random.randn(32, 10) * np.sqrt(1. / 32.0 + 10.0)\n",
    "        self.y          = y\n",
    "        self.output     = np.zeros(self.y.shape)\n",
    "        self.lr = lr\n",
    "\n",
    "    def feedforward(self):\n",
    "        self.layer1 = relu(self.input@self.w1)\n",
    "        self.output = self.layer1@self.w2\n",
    "        \n",
    "    def backprop(self):\n",
    "        self.w2 = self.w2 - self.lr * self.layer1.T @ delta_cross_entropy(self.output, self.y)\n",
    "        dir_w1 = ((delta_cross_entropy(self.output, self.y) @ self.w2.T).T @ relu_derivative(self.input@self.w1) @ (self.input@self.w1).T @ self.input).T\n",
    "        self.w1 = self.w1 - self.lr * dir_w1\n",
    "\n",
    "    def fit(self, num_epochs=300):\n",
    "        \n",
    "        cost_val = []\n",
    "        \n",
    "        for i in range(num_epochs):\n",
    "            j =  MSE_loss(self.output, y)\n",
    "            cost_val.append(j)\n",
    "            \n",
    "            self.feedforward_relu()\n",
    "            self.backprop_relu()\n",
    "        return cost_val"
   ]
  },
  {
   "cell_type": "code",
   "execution_count": 84,
   "metadata": {},
   "outputs": [
    {
     "name": "stdout",
     "output_type": "stream",
     "text": [
      "X (1257, 64)\n",
      "w1 (64, 32)\n",
      "w2 (32, 10)\n",
      "y (1257,)\n",
      "y_pred (1257,)\n",
      "w1 after backprop: (64, 32)\n",
      "w2 after backprop: (32, 10)\n"
     ]
    },
    {
     "name": "stderr",
     "output_type": "stream",
     "text": [
      "<ipython-input-83-748a4aefe270>:19: RuntimeWarning: invalid value encountered in true_divide\n",
      "  return e_x / e_x.sum(axis=0) # only difference\n"
     ]
    }
   ],
   "source": [
    "nn = NeuralNetwork(X_train, y_train, 0.00005)\n",
    "\n",
    "print(\"X\", nn.input.shape)\n",
    "print(\"w1\", nn.w1.shape)\n",
    "print(\"w2\", nn.w2.shape)\n",
    "print(\"y\", nn.y.shape)\n",
    "print(\"y_pred\", nn.output.shape )\n",
    "\n",
    "layer1 = relu(nn.input@nn.w1)\n",
    "layer2 = (layer1@nn.w2)\n",
    "#print(layer2[0:2])\n",
    "layer2 = layer1@nn.w2\n",
    "\n",
    "nn.feedforward()\n",
    "y_pred = nn.output\n",
    "#print(\"\\n\", nn.output[0:2])\n",
    "\n",
    "cross_entropy(y_pred, y_train)\n",
    "\n",
    "delta_cross_entropy(y_pred, y_train).shape\n",
    "\n",
    "nn.backprop()\n",
    "\n",
    "print(\"w1 after backprop:\", nn.w1.shape)\n",
    "print(\"w2 after backprop:\", nn.w2.shape)\n",
    "\n"
   ]
  },
  {
   "cell_type": "code",
   "execution_count": 70,
   "metadata": {},
   "outputs": [
    {
     "name": "stderr",
     "output_type": "stream",
     "text": [
      "<ipython-input-40-b631e27b23a9>:19: RuntimeWarning: invalid value encountered in true_divide\n",
      "  return e_x / e_x.sum(axis=0) # only difference\n"
     ]
    },
    {
     "data": {
      "text/plain": [
       "(64, 32)"
      ]
     },
     "execution_count": 70,
     "metadata": {},
     "output_type": "execute_result"
    }
   ],
   "source": [
    "mat =  ((delta_cross_entropy(nn.output, nn.y) @ nn.w2.T).T @ relu_derivative(nn.input@nn.w1) @ (nn.input@nn.w1).T @ X).T\n",
    "mat.shape"
   ]
  },
  {
   "cell_type": "code",
   "execution_count": 63,
   "metadata": {},
   "outputs": [
    {
     "data": {
      "text/plain": [
       "(1257, 32)"
      ]
     },
     "execution_count": 63,
     "metadata": {},
     "output_type": "execute_result"
    }
   ],
   "source": [
    "relu_derivative(nn.input@nn.w1).shape"
   ]
  },
  {
   "cell_type": "code",
   "execution_count": null,
   "metadata": {},
   "outputs": [],
   "source": []
  },
  {
   "cell_type": "code",
   "execution_count": null,
   "metadata": {},
   "outputs": [],
   "source": []
  },
  {
   "cell_type": "code",
   "execution_count": null,
   "metadata": {},
   "outputs": [],
   "source": [
    "#change y into numpy array\n",
    "uq = [0, 1, 2, 3, 4, 5, 6, 7, 8, 9]\n",
    "\n",
    "y = np.zeros((X.shape[0], 10))\n",
    "\n",
    "for i in range(0, 10):\n",
    "    for j in range(0, len(y_train)):\n",
    "        if y_train[j] == uq[i]:\n",
    "            y[j, i] = 1"
   ]
  },
  {
   "cell_type": "code",
   "execution_count": null,
   "metadata": {},
   "outputs": [],
   "source": [
    "X = X_train\n",
    "\n",
    "w = np.random.normal(0, 0.01, (64, 32))\n",
    "\n",
    "nn = NeuralNetwork(X, y, 0.00005)\n",
    "\n",
    "print(\"X: \", nn.input.shape)\n",
    "print(\"w1\", nn.weights1.shape)\n",
    "print(\"w2\", nn.weights2.shape)\n",
    "print(\"y\", nn.y.shape)\n",
    "print(\"y_pred\", nn.output.shape)\n",
    "\n",
    "#nn.feedforward_sigmoid()\n",
    "#nn.backprop_sigmoid()\n",
    "#nn.fit(10000)\n",
    "epochs = 20\n",
    "cost_val = nn.fit(epochs )\n",
    "\n",
    "#print(\"y_pred\", nn.output)\n"
   ]
  },
  {
   "cell_type": "code",
   "execution_count": null,
   "metadata": {},
   "outputs": [],
   "source": [
    "plt.plot(range(0, epochs), cost_val, color ='blue')\n",
    "plt.rcParams[\"figure.figsize\"] = (10,6)\n",
    "plt.grid()\n",
    "plt.xlabel(\"Number of iterations\")\n",
    "plt.ylabel(\"cost (J)\")\n",
    "plt.title(\"Convergence of gradient descent\")"
   ]
  },
  {
   "cell_type": "code",
   "execution_count": null,
   "metadata": {},
   "outputs": [],
   "source": [
    "print(\"y_pred\", nn.output[:5])"
   ]
  },
  {
   "cell_type": "code",
   "execution_count": null,
   "metadata": {},
   "outputs": [],
   "source": [
    "np.random.randn(64, 32)"
   ]
  },
  {
   "cell_type": "markdown",
   "metadata": {},
   "source": [
    "### Calculate Accuracy"
   ]
  },
  {
   "cell_type": "code",
   "execution_count": null,
   "metadata": {},
   "outputs": [],
   "source": [
    "def accuracy(y_pred, y):\n",
    "    cnt = 0\n",
    "    for i in range(y_pred.shape[0]):\n",
    "        temp = 0\n",
    "        ind = -1\n",
    "        for j in range(10):\n",
    "            if y_pred[i][j] > temp:\n",
    "                temp = y_pred[i][j]\n",
    "                ind = j\n",
    "        if y[i][ind] == 1:\n",
    "            cnt = cnt + 1\n",
    "\n",
    "    print(\"accuracy: \", cnt/y_pred.shape[0])\n",
    "\n",
    "\n",
    "accuracy(nn.output, y)"
   ]
  },
  {
   "cell_type": "markdown",
   "metadata": {},
   "source": [
    "# Pytorch Implementation"
   ]
  },
  {
   "cell_type": "code",
   "execution_count": null,
   "metadata": {},
   "outputs": [],
   "source": []
  }
 ],
 "metadata": {
  "kernelspec": {
   "display_name": "Python 3",
   "language": "python",
   "name": "python3"
  },
  "language_info": {
   "codemirror_mode": {
    "name": "ipython",
    "version": 3
   },
   "file_extension": ".py",
   "mimetype": "text/x-python",
   "name": "python",
   "nbconvert_exporter": "python",
   "pygments_lexer": "ipython3",
   "version": "3.8.3"
  }
 },
 "nbformat": 4,
 "nbformat_minor": 4
}
