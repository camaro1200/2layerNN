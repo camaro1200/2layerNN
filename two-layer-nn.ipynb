{
 "cells": [
  {
   "cell_type": "markdown",
   "metadata": {},
   "source": [
    "# Two Layer Neural Network"
   ]
  },
  {
   "cell_type": "code",
   "execution_count": 6,
   "metadata": {},
   "outputs": [],
   "source": [
    "from sklearn.datasets import load_digits\n",
    "from sklearn.model_selection import train_test_split\n",
    "import pandas as pd\n",
    "import numpy as np\n",
    "import matplotlib.pyplot as plt "
   ]
  },
  {
   "cell_type": "markdown",
   "metadata": {},
   "source": [
    "### Import Data"
   ]
  },
  {
   "cell_type": "code",
   "execution_count": 7,
   "metadata": {},
   "outputs": [
    {
     "name": "stdout",
     "output_type": "stream",
     "text": [
      "(1797, 64)\n"
     ]
    },
    {
     "data": {
      "text/plain": [
       "<Figure size 432x288 with 0 Axes>"
      ]
     },
     "metadata": {},
     "output_type": "display_data"
    },
    {
     "data": {
      "image/png": "[encoded data removed]",
      "text/plain": [
       "<Figure size 288x288 with 1 Axes>"
      ]
     },
     "metadata": {
      "needs_background": "light"
     },
     "output_type": "display_data"
    }
   ],
   "source": [
    "digits = load_digits()\n",
    "print(digits.data.shape)\n",
    "\n",
    "plt.gray() \n",
    "plt.matshow(digits.images[0]) \n",
    "plt.show() "
   ]
  },
  {
   "cell_type": "markdown",
   "metadata": {},
   "source": [
    "### Split Data "
   ]
  },
  {
   "cell_type": "code",
   "execution_count": 4,
   "metadata": {},
   "outputs": [
    {
     "name": "stdout",
     "output_type": "stream",
     "text": [
      "X_Train : (1257, 64)\n",
      "y_Train : (1257,)\n",
      "\n",
      "X_Test : (540, 64)\n",
      "y_Test : (540,)\n"
     ]
    }
   ],
   "source": [
    "X_full = digits.data\n",
    "y_full = digits.target\n",
    "\n",
    "X_train, X_test, y_train, y_test = train_test_split(X_full, y_full, test_size=0.3)\n",
    "\n",
    "print(\"X_Train :\", X_train.shape)\n",
    "print(\"y_Train :\", y_train.shape)\n",
    "print(\"\\nX_Test :\", X_test.shape)\n",
    "print(\"y_Test :\", y_test.shape)"
   ]
  },
  {
   "cell_type": "markdown",
   "metadata": {},
   "source": [
    "## Neural Network Model\n",
    "\n",
    "**Questions**\n",
    "2. should we change X by introducing 1's column for b\n",
    "2. How to initilize w (Xavier initilazation) +\n",
    "3. when do u nomrmalize images?\n",
    "4. When do perfrom Batch normalization\n",
    "5. Drop out\n",
    "6. adagrad update/adam udpdate"
   ]
  },
  {
   "cell_type": "markdown",
   "metadata": {},
   "source": [
    "- xavier weight initilization\n",
    "- batch normalization\n",
    "- adam optimizer\n",
    "- model ensambles give 2% more accuracy\n",
    "- Inverted drop out (Regularization) + 2%"
   ]
  },
  {
   "cell_type": "code",
   "execution_count": 5,
   "metadata": {},
   "outputs": [],
   "source": [
    "def relu(x):\n",
    "    return x * (x > 0)\n",
    "\n",
    "def relu_derivative(x):\n",
    "    return 1. * (x > 0)\n",
    "\n",
    "def cross_entropy_Loss(z, y):\n",
    "    predict_1 = y * np.log(z)\n",
    "    predict_0 = (1 - y) * np.log(1 - z)\n",
    "    \n",
    "    #print(\"\\n pred1 \\n\", predict_1)\n",
    "    #print(\"\\n pred0 \\n\", predict_0)\n",
    "    \n",
    "    return -sum(predict_1 + predict_0) / X.shape[0]\n",
    "\n",
    "def softmax(x):\n",
    "    \"\"\"Compute softmax values for each sets of scores in x.\"\"\"\n",
    "    e_x = np.exp(x - np.max(x))\n",
    "    return e_x / e_x.sum(axis=0) # only difference\n",
    "\n",
    "def stable_softmax(X):\n",
    "    exps = np.exp(X - np.max(X))\n",
    "    return exps / np.sum(exps)\n",
    "\n",
    "def softmax_grad(softmax):\n",
    "    # Reshape the 1-d softmax to 2-d so that np.dot will do the matrix multiplication\n",
    "    s = softmax.reshape(-1,1)\n",
    "    #print(s.shape)\n",
    "    return np.diagflat(s) - np.dot(s, s.T)\n",
    "\n",
    "\n",
    "def softmax2(z):\n",
    "    assert len(z.shape) == 2\n",
    "    s = np.max(z, axis=1)\n",
    "    s = s[:, np.newaxis] # necessary step to do broadcasting\n",
    "    e_x = np.exp(z - s)\n",
    "    div = np.sum(e_x, axis=1)\n",
    "    div = div[:, np.newaxis] # dito\n",
    "    return e_x / div\n",
    "    \n"
   ]
  },
  {
   "cell_type": "code",
   "execution_count": 8,
   "metadata": {},
   "outputs": [
    {
     "name": "stdout",
     "output_type": "stream",
     "text": [
      "(64, 10)\n",
      "[[2.84650663e-02 6.40142640e-05 2.27834309e-01 5.76651535e-02\n",
      "  5.44832664e-05 7.42776779e-03 4.66228147e-05 2.15977994e-03\n",
      "  4.75225327e-01 2.01057477e-01]]\n",
      "0.9999999999999999\n",
      "[[2.84650663e-02 6.40142640e-05 2.27834309e-01 5.76651535e-02\n",
      "  5.44832664e-05 7.42776779e-03 4.66228147e-05 2.15977994e-03\n",
      "  4.75225327e-01 2.01057477e-01]]\n",
      "0.9999999999999999\n",
      "(64, 10)\n",
      "(640, 640)\n",
      "\n",
      " (1, 640)\n"
     ]
    }
   ],
   "source": [
    "aa = np.random.randn(64, 10) * np.sqrt(1. / 64.0 + 10.0)\n",
    "print(aa.shape)\n",
    "\n",
    "\n",
    "a_row = aa[0:1]\n",
    "soft = softmax2(a_row)\n",
    "print(soft)\n",
    "print(np.sum(soft))\n",
    "\n",
    "\n",
    "soft_full = softmax2(aa)\n",
    "print(soft_full[0:1])\n",
    "print(np.sum(soft_full[0:1]))\n",
    "print(soft_full.shape)\n",
    "\n",
    "aa_grad = softmax_grad(soft_full)\n",
    "print(aa_grad.shape)\n",
    "print(\"\\n\", (aa_grad[0:1]).shape)"
   ]
  },
  {
   "cell_type": "code",
   "execution_count": 6,
   "metadata": {},
   "outputs": [],
   "source": [
    "#X = np.c_[np.ones((X.shape[0],1)), X[:]]"
   ]
  },
  {
   "cell_type": "code",
   "execution_count": 7,
   "metadata": {},
   "outputs": [],
   "source": [
    "class NeuralNetwork:\n",
    "    def __init__(self, x, y, lr=0.00005):\n",
    "        self.input      = x\n",
    "        self.w1         = np.random.randn(64, 32) * np.sqrt(1. / 64.0 + 32.0)     #xavier distribution\n",
    "        self.w2         = np.random.randn(32, 10) * np.sqrt(1. / 32.0 + 10.0)\n",
    "        self.y          = y\n",
    "        self.output     = np.zeros(self.y.shape)\n",
    "        self.lr = lr\n",
    "\n",
    "    def feedforward(self):\n",
    "        self.layer1 = relu(self.input@self.w1)\n",
    "        self.output = softmax2(self.layer1@self.w2)\n",
    "        \n",
    "    def backprop(self):\n",
    "        self.weights2 = self.weights2 - self.lr * np.dot(self.layer1.T, (2*(self.y - self.output) * relu_derivative(self.output)))\n",
    "        self.weights1 = self.weights1 - self.lr * np.dot(self.input.T,  (np.dot(2*(self.y - self.output) * relu_derivative(self.output), self.weights2.T) * relu_derivative(self.layer1)))\n",
    "        \n",
    "    \n",
    "    def fit(self, num_epochs=300):\n",
    "        \n",
    "        cost_val = []\n",
    "        \n",
    "        for i in range(num_epochs):\n",
    "            j =  MSE_loss(self.output, y)\n",
    "            cost_val.append(j)\n",
    "            \n",
    "            self.feedforward_relu()\n",
    "            self.backprop_relu()\n",
    "        return cost_val"
   ]
  },
  {
   "cell_type": "code",
   "execution_count": 8,
   "metadata": {},
   "outputs": [
    {
     "ename": "NameError",
     "evalue": "name 'y' is not defined",
     "output_type": "error",
     "traceback": [
      "\u001b[0;31m---------------------------------------------------------------------------\u001b[0m",
      "\u001b[0;31mNameError\u001b[0m                                 Traceback (most recent call last)",
      "\u001b[0;32m<ipython-input-8-58081f4fd451>\u001b[0m in \u001b[0;36m<module>\u001b[0;34m\u001b[0m\n\u001b[1;32m      1\u001b[0m \u001b[0mX\u001b[0m \u001b[0;34m=\u001b[0m \u001b[0mX_train\u001b[0m\u001b[0;34m\u001b[0m\u001b[0;34m\u001b[0m\u001b[0m\n\u001b[0;32m----> 2\u001b[0;31m \u001b[0mnn\u001b[0m \u001b[0;34m=\u001b[0m \u001b[0mNeuralNetwork\u001b[0m\u001b[0;34m(\u001b[0m\u001b[0mX\u001b[0m\u001b[0;34m,\u001b[0m \u001b[0my\u001b[0m\u001b[0;34m,\u001b[0m \u001b[0;36m0.00005\u001b[0m\u001b[0;34m)\u001b[0m\u001b[0;34m\u001b[0m\u001b[0;34m\u001b[0m\u001b[0m\n\u001b[0m\u001b[1;32m      3\u001b[0m \u001b[0mprint\u001b[0m\u001b[0;34m(\u001b[0m\u001b[0;34m\"X\"\u001b[0m\u001b[0;34m,\u001b[0m \u001b[0mnn\u001b[0m\u001b[0;34m.\u001b[0m\u001b[0minput\u001b[0m\u001b[0;34m.\u001b[0m\u001b[0mshape\u001b[0m\u001b[0;34m)\u001b[0m\u001b[0;34m\u001b[0m\u001b[0;34m\u001b[0m\u001b[0m\n\u001b[1;32m      4\u001b[0m \u001b[0mprint\u001b[0m\u001b[0;34m(\u001b[0m\u001b[0;34m\"w1\"\u001b[0m\u001b[0;34m,\u001b[0m \u001b[0mnn\u001b[0m\u001b[0;34m.\u001b[0m\u001b[0mw1\u001b[0m\u001b[0;34m.\u001b[0m\u001b[0mshape\u001b[0m\u001b[0;34m)\u001b[0m\u001b[0;34m\u001b[0m\u001b[0;34m\u001b[0m\u001b[0m\n\u001b[1;32m      5\u001b[0m \u001b[0mprint\u001b[0m\u001b[0;34m(\u001b[0m\u001b[0;34m\"w2\"\u001b[0m\u001b[0;34m,\u001b[0m \u001b[0mnn\u001b[0m\u001b[0;34m.\u001b[0m\u001b[0mw2\u001b[0m\u001b[0;34m.\u001b[0m\u001b[0mshape\u001b[0m\u001b[0;34m)\u001b[0m\u001b[0;34m\u001b[0m\u001b[0;34m\u001b[0m\u001b[0m\n",
      "\u001b[0;31mNameError\u001b[0m: name 'y' is not defined"
     ]
    }
   ],
   "source": [
    "X = X_train\n",
    "nn = NeuralNetwork(X, y, 0.00005)\n",
    "print(\"X\", nn.input.shape)\n",
    "print(\"w1\", nn.w1.shape)\n",
    "print(\"w2\", nn.w2.shape)\n",
    "print(\"y\", nn.y.shape)\n",
    "print(\"y_pred\", nn.output.shape )\n",
    "\n",
    "layer1 = relu(nn.input@nn.w1)\n",
    "layer2 = (layer1@nn.w2)\n",
    "#print(layer2[0:2])\n",
    "layer2_soft = softmax2(layer1@nn.w2)\n",
    "layer2_soft.shape\n",
    "print(layer2_soft[0:2])\n",
    "\n",
    "\n",
    "nn.feedforward()\n",
    "print(\"\\n\", nn.output[0:2])\n"
   ]
  },
  {
   "cell_type": "code",
   "execution_count": null,
   "metadata": {},
   "outputs": [],
   "source": []
  },
  {
   "cell_type": "code",
   "execution_count": null,
   "metadata": {},
   "outputs": [],
   "source": []
  },
  {
   "cell_type": "code",
   "execution_count": null,
   "metadata": {},
   "outputs": [],
   "source": []
  },
  {
   "cell_type": "code",
   "execution_count": null,
   "metadata": {},
   "outputs": [],
   "source": []
  },
  {
   "cell_type": "code",
   "execution_count": null,
   "metadata": {},
   "outputs": [],
   "source": [
    "#change y into numpy array\n",
    "uq = [0, 1, 2, 3, 4, 5, 6, 7, 8, 9]\n",
    "\n",
    "y = np.zeros((X.shape[0], 10))\n",
    "\n",
    "for i in range(0, 10):\n",
    "    for j in range(0, len(y_train)):\n",
    "        if y_train[j] == uq[i]:\n",
    "            y[j, i] = 1"
   ]
  },
  {
   "cell_type": "code",
   "execution_count": null,
   "metadata": {},
   "outputs": [],
   "source": [
    "X = X_train\n",
    "\n",
    "w = np.random.normal(0, 0.01, (64, 32))\n",
    "\n",
    "nn = NeuralNetwork(X, y, 0.00005)\n",
    "\n",
    "print(\"X: \", nn.input.shape)\n",
    "print(\"w1\", nn.weights1.shape)\n",
    "print(\"w2\", nn.weights2.shape)\n",
    "print(\"y\", nn.y.shape)\n",
    "print(\"y_pred\", nn.output.shape)\n",
    "\n",
    "#nn.feedforward_sigmoid()\n",
    "#nn.backprop_sigmoid()\n",
    "#nn.fit(10000)\n",
    "epochs = 20\n",
    "cost_val = nn.fit(epochs )\n",
    "\n",
    "#print(\"y_pred\", nn.output)\n"
   ]
  },
  {
   "cell_type": "code",
   "execution_count": null,
   "metadata": {},
   "outputs": [],
   "source": [
    "plt.plot(range(0, epochs), cost_val, color ='blue')\n",
    "plt.rcParams[\"figure.figsize\"] = (10,6)\n",
    "plt.grid()\n",
    "plt.xlabel(\"Number of iterations\")\n",
    "plt.ylabel(\"cost (J)\")\n",
    "plt.title(\"Convergence of gradient descent\")"
   ]
  },
  {
   "cell_type": "code",
   "execution_count": null,
   "metadata": {},
   "outputs": [],
   "source": [
    "print(\"y_pred\", nn.output[:5])"
   ]
  },
  {
   "cell_type": "code",
   "execution_count": null,
   "metadata": {},
   "outputs": [],
   "source": [
    "np.random.randn(64, 32)"
   ]
  },
  {
   "cell_type": "markdown",
   "metadata": {},
   "source": [
    "### Calculate Accuracy"
   ]
  },
  {
   "cell_type": "code",
   "execution_count": null,
   "metadata": {},
   "outputs": [],
   "source": [
    "def accuracy(y_pred, y):\n",
    "    cnt = 0\n",
    "    for i in range(y_pred.shape[0]):\n",
    "        temp = 0\n",
    "        ind = -1\n",
    "        for j in range(10):\n",
    "            if y_pred[i][j] > temp:\n",
    "                temp = y_pred[i][j]\n",
    "                ind = j\n",
    "        if y[i][ind] == 1:\n",
    "            cnt = cnt + 1\n",
    "\n",
    "    print(\"accuracy: \", cnt/y_pred.shape[0])\n",
    "\n",
    "\n",
    "accuracy(nn.output, y)"
   ]
  },
  {
   "cell_type": "markdown",
   "metadata": {},
   "source": [
    "# Pytorch Implementation"
   ]
  },
  {
   "cell_type": "code",
   "execution_count": null,
   "metadata": {},
   "outputs": [],
   "source": []
  },
  {
   "cell_type": "code",
   "execution_count": null,
   "metadata": {},
   "outputs": [],
   "source": []
  },
  {
   "cell_type": "code",
   "execution_count": null,
   "metadata": {},
   "outputs": [],
   "source": []
  },
  {
   "cell_type": "code",
   "execution_count": null,
   "metadata": {},
   "outputs": [],
   "source": []
  },
  {
   "cell_type": "code",
   "execution_count": null,
   "metadata": {},
   "outputs": [],
   "source": []
  },
  {
   "cell_type": "code",
   "execution_count": null,
   "metadata": {},
   "outputs": [],
   "source": []
  },
  {
   "cell_type": "code",
   "execution_count": 9,
   "metadata": {},
   "outputs": [
    {
     "data": {
      "text/plain": [
       "'/Users/pavelshaburov/Desktop/ComputerVision'"
      ]
     },
     "execution_count": 9,
     "metadata": {},
     "output_type": "execute_result"
    }
   ],
   "source": [
    "pwd"
   ]
  },
  {
   "cell_type": "code",
   "execution_count": 10,
   "metadata": {},
   "outputs": [],
   "source": [
    "%mkdir gitrepo"
   ]
  },
  {
   "cell_type": "code",
   "execution_count": 14,
   "metadata": {},
   "outputs": [],
   "source": [
    "!ls gitrepo"
   ]
  },
  {
   "cell_type": "code",
   "execution_count": 15,
   "metadata": {},
   "outputs": [
    {
     "name": "stdout",
     "output_type": "stream",
     "text": [
      "Convolutional Neural Network.ipynb\r\n",
      "Linear Classifier.ipynb\r\n",
      "Localisation + Detection.ipynb\r\n",
      "Logistic Regression (Binary + Multiclass).ipynb\r\n",
      "Neural Network.ipynb\r\n",
      "Neuron.ipynb\r\n",
      "R-CNN Practise.ipynb\r\n",
      "\u001b[34mdata\u001b[m\u001b[m/\r\n",
      "\u001b[34mgitrepo\u001b[m\u001b[m/\r\n"
     ]
    }
   ],
   "source": [
    "ls"
   ]
  },
  {
   "cell_type": "code",
   "execution_count": 19,
   "metadata": {},
   "outputs": [
    {
     "name": "stdout",
     "output_type": "stream",
     "text": [
      "two-layer-nn.ipynb\r\n"
     ]
    }
   ],
   "source": [
    "ls gitrepo"
   ]
  },
  {
   "cell_type": "code",
   "execution_count": 20,
   "metadata": {},
   "outputs": [
    {
     "data": {
      "text/plain": [
       "'/Users/pavelshaburov/Desktop/ComputerVision'"
      ]
     },
     "execution_count": 20,
     "metadata": {},
     "output_type": "execute_result"
    }
   ],
   "source": [
    "pwd"
   ]
  },
  {
   "cell_type": "code",
   "execution_count": 22,
   "metadata": {},
   "outputs": [
    {
     "ename": "SyntaxError",
     "evalue": "invalid syntax (<ipython-input-22-f188d5ac1197>, line 1)",
     "output_type": "error",
     "traceback": [
      "\u001b[0;36m  File \u001b[0;32m\"<ipython-input-22-f188d5ac1197>\"\u001b[0;36m, line \u001b[0;32m1\u001b[0m\n\u001b[0;31m    git init\u001b[0m\n\u001b[0m        ^\u001b[0m\n\u001b[0;31mSyntaxError\u001b[0m\u001b[0;31m:\u001b[0m invalid syntax\n"
     ]
    }
   ],
   "source": []
  },
  {
   "cell_type": "code",
   "execution_count": null,
   "metadata": {},
   "outputs": [],
   "source": []
  }
 ],
 "metadata": {
  "kernelspec": {
   "display_name": "Python 3",
   "language": "python",
   "name": "python3"
  },
  "language_info": {
   "codemirror_mode": {
    "name": "ipython",
    "version": 3
   },
   "file_extension": ".py",
   "mimetype": "text/x-python",
   "name": "python",
   "nbconvert_exporter": "python",
   "pygments_lexer": "ipython3",
   "version": "3.8.3"
  }
 },
 "nbformat": 4,
 "nbformat_minor": 4
}
